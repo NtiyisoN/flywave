{
 "cells": [
  {
   "cell_type": "code",
   "execution_count": 1,
   "metadata": {
    "collapsed": false
   },
   "outputs": [
    {
     "name": "stderr",
     "output_type": "stream",
     "text": [
      "Using TensorFlow backend.\n",
      "/Users/alexchan/anaconda3/envs/MLKart/lib/python3.6/importlib/_bootstrap.py:205: RuntimeWarning: compiletime version 3.5 of module 'tensorflow.python.framework.fast_tensor_util' does not match runtime version 3.6\n",
      "  return f(*args, **kwds)\n"
     ]
    }
   ],
   "source": [
    "%matplotlib inline\n",
    "import time\n",
    "import math\n",
    "from keras.models import load_model\n",
    "from keras.preprocessing import image\n",
    "import cv2\n",
    "import numpy as np\n",
    "import signal\n",
    "import sys\n",
    "import matplotlib.pyplot as plt\n",
    "from Bebop import Bebop\n",
    "from DroneVision import DroneVision\n",
    "from preprocess import preprocess"
   ]
  },
  {
   "cell_type": "code",
   "execution_count": 2,
   "metadata": {
    "collapsed": false
   },
   "outputs": [
    {
     "data": {
      "text/plain": [
       "<function _signal.default_int_handler>"
      ]
     },
     "execution_count": 2,
     "metadata": {},
     "output_type": "execute_result"
    }
   ],
   "source": [
    "def rightArc():\n",
    "#     #rotate in an arc to the right\n",
    "#     bebop.fly_direct(roll=15, pitch=0, yaw=0, vertical_movement=0, duration=3)\n",
    "#     bebop.fly_direct(roll=0, pitch=15, yaw=0, vertical_movement=0, duration=3)\n",
    "#     bebop.fly_direct(roll=0, pitch=0, yaw=20, vertical_movement=0, duration=4)\n",
    "    print('right')\n",
    "    return\n",
    "\n",
    "def leftArc():\n",
    "#     bebop.fly_direct(roll=-15, pitch=0, yaw=0, vertical_movement=0, duration=3)\n",
    "#     bebop.fly_direct(roll=0, pitch=-15, yaw=0, vertical_movement=0, duration=3)\n",
    "#     bebop.fly_direct(roll=0, pitch=0, yaw=-5, vertical_movement=0, duration=4)\n",
    "    print('left')\n",
    "    return\n",
    "\n",
    "def land():\n",
    "    active = False\n",
    "    print('land')\n",
    "    return\n",
    "\n",
    "def flip():\n",
    "#     bebop.flip(back)\n",
    "    print('flip')\n",
    "    return\n",
    "\n",
    "def resolveAction(gesture):\n",
    "    actions = {\n",
    "        0 : rightArc,\n",
    "        1 : leftArc,\n",
    "        2 : land,\n",
    "        3 : flip # TODO: Replace this with do nothing command?\n",
    "    }\n",
    "    actions[gesture]\n",
    "    return\n",
    "\n",
    "def kill(signal, frame):\n",
    "    \"\"\" Catches SIGINT and lands the drone \"\"\"\n",
    "\n",
    "    print(\"Ctrl+C registed - exiting gracefully\")\n",
    "    bebop.smart_sleep(5)\n",
    "    bebop.safe_land(10)\n",
    "    print(\"Landed successfully. Now exiting\")\n",
    "    bebop.disconnect()\n",
    "    sys.exit(0)\n",
    "\n",
    "signal.signal(signal.SIGINT, kill)\n"
   ]
  },
  {
   "cell_type": "code",
   "execution_count": 3,
   "metadata": {
    "collapsed": true
   },
   "outputs": [],
   "source": [
    "class UserVision:\n",
    "    def __init__(self, vision):\n",
    "        self.index = 0\n",
    "        self.vision = vision\n",
    "\n",
    "    def save_pictures(self, args):\n",
    "        #print(\"saving picture\")\n",
    "        img = self.vision.get_latest_valid_picture()\n",
    "\n",
    "        # filename = \"test_image_%06d.png\" % self.index\n",
    "        #cv2.imwrite(filename, img)\n",
    "        self.index +=1\n",
    "\n",
    "    def detect(self, args):\n",
    "        img = self.vision.get_latest_valid_picture()\n"
   ]
  },
  {
   "cell_type": "code",
   "execution_count": 4,
   "metadata": {
    "collapsed": true
   },
   "outputs": [],
   "source": [
    "model = load_model('4_gesture_model.h5')"
   ]
  },
  {
   "cell_type": "code",
   "execution_count": 11,
   "metadata": {
    "collapsed": false
   },
   "outputs": [
    {
     "name": "stdout",
     "output_type": "stream",
     "text": [
      "timeout - trying again\n",
      "timeout - trying again\n",
      "Service Bebop2-C409587._arsdk-090c._udp.local. added, service info: ServiceInfo(type='_arsdk-090c._udp.local.', name='Bebop2-C409587._arsdk-090c._udp.local.', address=b'\\xc0\\xa8*\\x01', port=44444, weight=0, priority=0, server='Bebop2-C409587.local.', properties={b'{\"device_id\":\"PI040376AA6C409587\"}': False})\n"
     ]
    }
   ],
   "source": [
    "bebop = Bebop()\n"
   ]
  },
  {
   "cell_type": "code",
   "execution_count": 10,
   "metadata": {
    "collapsed": false
   },
   "outputs": [
    {
     "name": "stdout",
     "output_type": "stream",
     "text": [
      "Service Bebop2-C409587._arsdk-090c._udp.local. added, service info: ServiceInfo(type='_arsdk-090c._udp.local.', name='Bebop2-C409587._arsdk-090c._udp.local.', address=b'\\xc0\\xa8*\\x01', port=44444, weight=0, priority=0, server='Bebop2-C409587.local.', properties={b'{\"device_id\":\"PI040376AA6C409587\"}': False})\n",
      "{\"d2c_port\": 43210, \"controller_type\": \"computer\", \"controller_name\": \"pyparrot\", \"arstream2_client_stream_port\": 55004, \"arstream2_client_control_port\": 55005}\n",
      "{'status': 0, 'c2d_port': 54321, 'c2d_update_port': 51, 'c2d_user_port': 21, 'qos_mode': 0, 'arstream2_server_stream_port': 5004, 'arstream2_server_control_port': 5005}\n",
      "c2d_port is 54321\n"
     ]
    },
    {
     "ename": "OSError",
     "evalue": "[Errno 48] Address already in use",
     "output_type": "error",
     "traceback": [
      "\u001b[0;31m---------------------------------------------------------------------------\u001b[0m",
      "\u001b[0;31mOSError\u001b[0m                                   Traceback (most recent call last)",
      "\u001b[0;32m<ipython-input-10-11ac7ac79255>\u001b[0m in \u001b[0;36m<module>\u001b[0;34m()\u001b[0m\n\u001b[1;32m      1\u001b[0m \u001b[0mbebop\u001b[0m \u001b[0;34m=\u001b[0m \u001b[0mBebop\u001b[0m\u001b[0;34m(\u001b[0m\u001b[0;34m)\u001b[0m\u001b[0;34m\u001b[0m\u001b[0m\n\u001b[1;32m      2\u001b[0m \u001b[0;34m\u001b[0m\u001b[0m\n\u001b[0;32m----> 3\u001b[0;31m \u001b[0msuccess\u001b[0m \u001b[0;34m=\u001b[0m \u001b[0mbebop\u001b[0m\u001b[0;34m.\u001b[0m\u001b[0mconnect\u001b[0m\u001b[0;34m(\u001b[0m\u001b[0;36m5\u001b[0m\u001b[0;34m)\u001b[0m\u001b[0;34m\u001b[0m\u001b[0m\n\u001b[0m\u001b[1;32m      4\u001b[0m \u001b[0;34m\u001b[0m\u001b[0m\n\u001b[1;32m      5\u001b[0m \u001b[0mactive\u001b[0m \u001b[0;34m=\u001b[0m \u001b[0;32mTrue\u001b[0m\u001b[0;34m\u001b[0m\u001b[0m\n",
      "\u001b[0;32m/Users/alexchan/Documents/college/uavs/flywave/flywave/Bebop.py\u001b[0m in \u001b[0;36mconnect\u001b[0;34m(self, num_retries)\u001b[0m\n\u001b[1;32m    108\u001b[0m             \u001b[0;32mreturn\u001b[0m \u001b[0;32mFalse\u001b[0m\u001b[0;34m\u001b[0m\u001b[0m\n\u001b[1;32m    109\u001b[0m \u001b[0;34m\u001b[0m\u001b[0m\n\u001b[0;32m--> 110\u001b[0;31m         \u001b[0mconnected\u001b[0m \u001b[0;34m=\u001b[0m \u001b[0mself\u001b[0m\u001b[0;34m.\u001b[0m\u001b[0mdrone_connection\u001b[0m\u001b[0;34m.\u001b[0m\u001b[0mconnect\u001b[0m\u001b[0;34m(\u001b[0m\u001b[0mnum_retries\u001b[0m\u001b[0;34m)\u001b[0m\u001b[0;34m\u001b[0m\u001b[0m\n\u001b[0m\u001b[1;32m    111\u001b[0m         \u001b[0;32mreturn\u001b[0m \u001b[0mconnected\u001b[0m\u001b[0;34m\u001b[0m\u001b[0m\n\u001b[1;32m    112\u001b[0m \u001b[0;34m\u001b[0m\u001b[0m\n",
      "\u001b[0;32m/Users/alexchan/Documents/college/uavs/flywave/flywave/networking/wifiConnection.py\u001b[0m in \u001b[0;36mconnect\u001b[0;34m(self, num_retries)\u001b[0m\n\u001b[1;32m    149\u001b[0m         \u001b[0mhandshake\u001b[0m \u001b[0;34m=\u001b[0m \u001b[0mself\u001b[0m\u001b[0;34m.\u001b[0m\u001b[0m_handshake\u001b[0m\u001b[0;34m(\u001b[0m\u001b[0mnum_retries\u001b[0m\u001b[0;34m)\u001b[0m\u001b[0;34m\u001b[0m\u001b[0m\n\u001b[1;32m    150\u001b[0m         \u001b[0;32mif\u001b[0m \u001b[0;34m(\u001b[0m\u001b[0mhandshake\u001b[0m\u001b[0;34m)\u001b[0m\u001b[0;34m:\u001b[0m\u001b[0;34m\u001b[0m\u001b[0m\n\u001b[0;32m--> 151\u001b[0;31m             \u001b[0mself\u001b[0m\u001b[0;34m.\u001b[0m\u001b[0m_create_udp_connection\u001b[0m\u001b[0;34m(\u001b[0m\u001b[0;34m)\u001b[0m\u001b[0;34m\u001b[0m\u001b[0m\n\u001b[0m\u001b[1;32m    152\u001b[0m             \u001b[0mself\u001b[0m\u001b[0;34m.\u001b[0m\u001b[0mlistener_thread\u001b[0m \u001b[0;34m=\u001b[0m \u001b[0mthreading\u001b[0m\u001b[0;34m.\u001b[0m\u001b[0mThread\u001b[0m\u001b[0;34m(\u001b[0m\u001b[0mtarget\u001b[0m\u001b[0;34m=\u001b[0m\u001b[0mself\u001b[0m\u001b[0;34m.\u001b[0m\u001b[0m_listen_socket\u001b[0m\u001b[0;34m)\u001b[0m\u001b[0;34m\u001b[0m\u001b[0m\n\u001b[1;32m    153\u001b[0m             \u001b[0mself\u001b[0m\u001b[0;34m.\u001b[0m\u001b[0mlistener_thread\u001b[0m\u001b[0;34m.\u001b[0m\u001b[0mstart\u001b[0m\u001b[0;34m(\u001b[0m\u001b[0;34m)\u001b[0m\u001b[0;34m\u001b[0m\u001b[0m\n",
      "\u001b[0;32m/Users/alexchan/Documents/college/uavs/flywave/flywave/networking/wifiConnection.py\u001b[0m in \u001b[0;36m_create_udp_connection\u001b[0;34m(self)\u001b[0m\n\u001b[1;32m    355\u001b[0m         \u001b[0;31m#self.udp_receive_sock.connect((self.drone_ip, self.udp_receive_port))\u001b[0m\u001b[0;34m\u001b[0m\u001b[0;34m\u001b[0m\u001b[0m\n\u001b[1;32m    356\u001b[0m         \u001b[0mself\u001b[0m\u001b[0;34m.\u001b[0m\u001b[0mudp_receive_sock\u001b[0m\u001b[0;34m.\u001b[0m\u001b[0msettimeout\u001b[0m\u001b[0;34m(\u001b[0m\u001b[0;36m5.0\u001b[0m\u001b[0;34m)\u001b[0m\u001b[0;34m\u001b[0m\u001b[0m\n\u001b[0;32m--> 357\u001b[0;31m         \u001b[0mself\u001b[0m\u001b[0;34m.\u001b[0m\u001b[0mudp_receive_sock\u001b[0m\u001b[0;34m.\u001b[0m\u001b[0mbind\u001b[0m\u001b[0;34m(\u001b[0m\u001b[0;34m(\u001b[0m\u001b[0;34m'0.0.0.0'\u001b[0m\u001b[0;34m,\u001b[0m \u001b[0mint\u001b[0m\u001b[0;34m(\u001b[0m\u001b[0mself\u001b[0m\u001b[0;34m.\u001b[0m\u001b[0mudp_receive_port\u001b[0m\u001b[0;34m)\u001b[0m\u001b[0;34m)\u001b[0m\u001b[0;34m)\u001b[0m\u001b[0;34m\u001b[0m\u001b[0m\n\u001b[0m\u001b[1;32m    358\u001b[0m \u001b[0;34m\u001b[0m\u001b[0m\n\u001b[1;32m    359\u001b[0m \u001b[0;34m\u001b[0m\u001b[0m\n",
      "\u001b[0;31mOSError\u001b[0m: [Errno 48] Address already in use"
     ]
    },
    {
     "name": "stdout",
     "output_type": "stream",
     "text": [
      "timeout - trying again\n",
      "timeout - trying again\n",
      "timeout - trying again\n",
      "timeout - trying again\n",
      "timeout - trying again\n",
      "timeout - trying again\n"
     ]
    }
   ],
   "source": [
    "success = bebop.connect(5)\n",
    "\n",
    "active = True\n",
    "COUNT_EVERY = 20\n",
    "\n",
    "if (success):\n",
    "    # start up the video\n",
    "    bebopVision = DroneVision(bebop, is_bebop=True)\n",
    "\n",
    "    # Load model\n",
    "    model = load_model('4_gesture_model.h5')\n",
    "\n",
    "    userVision = UserVision(bebopVision)\n",
    "    bebopVision.set_user_callback_function(userVision.save_pictures, user_callback_args=None)\n",
    "    success = bebopVision.open_video()\n",
    "    print(success)\n",
    "    "
   ]
  },
  {
   "cell_type": "code",
   "execution_count": 6,
   "metadata": {
    "collapsed": false
   },
   "outputs": [
    {
     "name": "stdout",
     "output_type": "stream",
     "text": [
      "54\n",
      "/Users/alexchan/Documents/college/uavs/flywave/flywave/images\n",
      "/Users/alexchan/Documents/college/uavs/flywave/flywave/utils\n",
      "Opening ffmpeg\n",
      "ffmpeg -protocol_whitelist \"file,rtp,udp\" -i /Users/alexchan/Documents/college/uavs/flywave/flywave/utils/bebop.sdp -r 30 image_%03d.png &\n",
      "starting vision thread\n",
      "Opening non-blocking readers\n",
      "ffmpeg version 3.3.2 Copyright (c) 2000-2017 the FFmpeg developers\n",
      "\n",
      "  built with Apple LLVM version 8.1.0 (clang-802.0.42)\n",
      "\n",
      "  configuration: \n",
      "\n",
      "  libavutil      55. 58.100 / 55. 58.100\n",
      "\n",
      "  libavcodec     57. 89.100 / 57. 89.100\n",
      "\n",
      "  libavformat    57. 71.100 / 57. 71.100\n",
      "\n",
      "  libavdevice    57.  6.100 / 57.  6.100\n",
      "\n",
      "  libavfilter     6. 82.100 /  6. 82.100\n",
      "\n",
      "  libswscale      4.  6.100 /  4.  6.100\n",
      "\n",
      "  libswresample   2.  7.100 /  2.  7.100\n",
      "\n",
      "[udp @ 0x7fe8af2000c0] bind failed: Address already in use\n",
      "\n",
      "/Users/alexchan/Documents/college/uavs/flywave/flywave/utils/bebop.sdp: Invalid data found when processing input\n",
      "\n"
     ]
    },
    {
     "ename": "KeyboardInterrupt",
     "evalue": "",
     "output_type": "error",
     "traceback": [
      "\u001b[0;31m---------------------------------------------------------------------------\u001b[0m",
      "\u001b[0;31mKeyboardInterrupt\u001b[0m                         Traceback (most recent call last)",
      "\u001b[0;32m<ipython-input-6-539777146cb1>\u001b[0m in \u001b[0;36m<module>\u001b[0;34m()\u001b[0m\n\u001b[1;32m      5\u001b[0m \u001b[0muserVision\u001b[0m \u001b[0;34m=\u001b[0m \u001b[0mUserVision\u001b[0m\u001b[0;34m(\u001b[0m\u001b[0mbebopVision\u001b[0m\u001b[0;34m)\u001b[0m\u001b[0;34m\u001b[0m\u001b[0m\n\u001b[1;32m      6\u001b[0m \u001b[0mbebopVision\u001b[0m\u001b[0;34m.\u001b[0m\u001b[0mset_user_callback_function\u001b[0m\u001b[0;34m(\u001b[0m\u001b[0muserVision\u001b[0m\u001b[0;34m.\u001b[0m\u001b[0msave_pictures\u001b[0m\u001b[0;34m,\u001b[0m \u001b[0muser_callback_args\u001b[0m\u001b[0;34m=\u001b[0m\u001b[0;32mNone\u001b[0m\u001b[0;34m)\u001b[0m\u001b[0;34m\u001b[0m\u001b[0m\n\u001b[0;32m----> 7\u001b[0;31m \u001b[0msuccess\u001b[0m \u001b[0;34m=\u001b[0m \u001b[0mbebopVision\u001b[0m\u001b[0;34m.\u001b[0m\u001b[0mopen_video\u001b[0m\u001b[0;34m(\u001b[0m\u001b[0;34m)\u001b[0m\u001b[0;34m\u001b[0m\u001b[0m\n\u001b[0m",
      "\u001b[0;32m/Users/alexchan/Documents/college/uavs/flywave/flywave/DroneVision.py\u001b[0m in \u001b[0;36mopen_video\u001b[0;34m(self)\u001b[0m\n\u001b[1;32m    126\u001b[0m         \u001b[0;32mwhile\u001b[0m \u001b[0;34m(\u001b[0m\u001b[0;32mnot\u001b[0m \u001b[0msuccess\u001b[0m\u001b[0;34m)\u001b[0m\u001b[0;34m:\u001b[0m\u001b[0;34m\u001b[0m\u001b[0m\n\u001b[1;32m    127\u001b[0m \u001b[0;34m\u001b[0m\u001b[0m\n\u001b[0;32m--> 128\u001b[0;31m             \u001b[0mline\u001b[0m \u001b[0;34m=\u001b[0m \u001b[0mstderr_reader\u001b[0m\u001b[0;34m.\u001b[0m\u001b[0mreadline\u001b[0m\u001b[0;34m(\u001b[0m\u001b[0;34m)\u001b[0m\u001b[0;34m\u001b[0m\u001b[0m\n\u001b[0m\u001b[1;32m    129\u001b[0m             \u001b[0;32mif\u001b[0m \u001b[0;34m(\u001b[0m\u001b[0mline\u001b[0m \u001b[0;32mis\u001b[0m \u001b[0;32mnot\u001b[0m \u001b[0;32mNone\u001b[0m\u001b[0;34m)\u001b[0m\u001b[0;34m:\u001b[0m\u001b[0;34m\u001b[0m\u001b[0m\n\u001b[1;32m    130\u001b[0m                 \u001b[0mline_str\u001b[0m \u001b[0;34m=\u001b[0m \u001b[0mline\u001b[0m\u001b[0;34m.\u001b[0m\u001b[0mdecode\u001b[0m\u001b[0;34m(\u001b[0m\u001b[0;34m\"utf-8\"\u001b[0m\u001b[0;34m)\u001b[0m\u001b[0;34m\u001b[0m\u001b[0m\n",
      "\u001b[0;32m/Users/alexchan/Documents/college/uavs/flywave/flywave/utils/NonBlockingStreamReader.py\u001b[0m in \u001b[0;36mreadline\u001b[0;34m(self, timeout)\u001b[0m\n\u001b[1;32m     48\u001b[0m         \u001b[0;32mtry\u001b[0m\u001b[0;34m:\u001b[0m\u001b[0;34m\u001b[0m\u001b[0m\n\u001b[1;32m     49\u001b[0m             return self._q.get(block = timeout is not None,\n\u001b[0;32m---> 50\u001b[0;31m                     timeout = timeout)\n\u001b[0m\u001b[1;32m     51\u001b[0m         \u001b[0;32mexcept\u001b[0m \u001b[0mEmpty\u001b[0m\u001b[0;34m:\u001b[0m\u001b[0;34m\u001b[0m\u001b[0m\n\u001b[1;32m     52\u001b[0m             \u001b[0;32mreturn\u001b[0m \u001b[0;32mNone\u001b[0m\u001b[0;34m\u001b[0m\u001b[0m\n",
      "\u001b[0;32m/Users/alexchan/anaconda3/envs/MLKart/lib/python3.6/queue.py\u001b[0m in \u001b[0;36mget\u001b[0;34m(self, block, timeout)\u001b[0m\n\u001b[1;32m    156\u001b[0m         in that case).\n\u001b[1;32m    157\u001b[0m         '''\n\u001b[0;32m--> 158\u001b[0;31m         \u001b[0;32mwith\u001b[0m \u001b[0mself\u001b[0m\u001b[0;34m.\u001b[0m\u001b[0mnot_empty\u001b[0m\u001b[0;34m:\u001b[0m\u001b[0;34m\u001b[0m\u001b[0m\n\u001b[0m\u001b[1;32m    159\u001b[0m             \u001b[0;32mif\u001b[0m \u001b[0;32mnot\u001b[0m \u001b[0mblock\u001b[0m\u001b[0;34m:\u001b[0m\u001b[0;34m\u001b[0m\u001b[0m\n\u001b[1;32m    160\u001b[0m                 \u001b[0;32mif\u001b[0m \u001b[0;32mnot\u001b[0m \u001b[0mself\u001b[0m\u001b[0;34m.\u001b[0m\u001b[0m_qsize\u001b[0m\u001b[0;34m(\u001b[0m\u001b[0;34m)\u001b[0m\u001b[0;34m:\u001b[0m\u001b[0;34m\u001b[0m\u001b[0m\n",
      "\u001b[0;32m/Users/alexchan/anaconda3/envs/MLKart/lib/python3.6/threading.py\u001b[0m in \u001b[0;36m__enter__\u001b[0;34m(self)\u001b[0m\n\u001b[1;32m    237\u001b[0m         \u001b[0mself\u001b[0m\u001b[0;34m.\u001b[0m\u001b[0m_waiters\u001b[0m \u001b[0;34m=\u001b[0m \u001b[0m_deque\u001b[0m\u001b[0;34m(\u001b[0m\u001b[0;34m)\u001b[0m\u001b[0;34m\u001b[0m\u001b[0m\n\u001b[1;32m    238\u001b[0m \u001b[0;34m\u001b[0m\u001b[0m\n\u001b[0;32m--> 239\u001b[0;31m     \u001b[0;32mdef\u001b[0m \u001b[0m__enter__\u001b[0m\u001b[0;34m(\u001b[0m\u001b[0mself\u001b[0m\u001b[0;34m)\u001b[0m\u001b[0;34m:\u001b[0m\u001b[0;34m\u001b[0m\u001b[0m\n\u001b[0m\u001b[1;32m    240\u001b[0m         \u001b[0;32mreturn\u001b[0m \u001b[0mself\u001b[0m\u001b[0;34m.\u001b[0m\u001b[0m_lock\u001b[0m\u001b[0;34m.\u001b[0m\u001b[0m__enter__\u001b[0m\u001b[0;34m(\u001b[0m\u001b[0;34m)\u001b[0m\u001b[0;34m\u001b[0m\u001b[0m\n\u001b[1;32m    241\u001b[0m \u001b[0;34m\u001b[0m\u001b[0m\n",
      "\u001b[0;31mKeyboardInterrupt\u001b[0m: "
     ]
    }
   ],
   "source": [
    "bebopVision = DroneVision(bebop, is_bebop=True)\n",
    "\n",
    "# Load model\n",
    "\n",
    "userVision = UserVision(bebopVision)\n",
    "bebopVision.set_user_callback_function(userVision.save_pictures, user_callback_args=None)\n",
    "success = bebopVision.open_video()"
   ]
  },
  {
   "cell_type": "code",
   "execution_count": 37,
   "metadata": {
    "collapsed": false
   },
   "outputs": [
    {
     "name": "stdout",
     "output_type": "stream",
     "text": [
      "Vision successfully started!\n",
      "Fly me around by hand!\n",
      "Moving the camera using velocity\n",
      "roll is 0 pitch is 0 yaw is 0 vertical is 20\n",
      "(480, 856, 3)\n",
      "[[ 1.  0.  0.  0.]]\n",
      "(480, 856, 3)\n",
      "[[ 1.  0.  0.  0.]]\n",
      "(480, 856, 3)\n",
      "[[ 1.  0.  0.  0.]]\n",
      "(480, 856, 3)\n",
      "[[ 1.  0.  0.  0.]]\n",
      "(480, 856, 3)\n",
      "[[ 1.  0.  0.  0.]]\n",
      "(480, 856, 3)\n",
      "[[ 1.  0.  0.  0.]]\n",
      "(480, 856, 3)\n",
      "[[ 1.  0.  0.  0.]]\n",
      "(480, 856, 3)\n",
      "[[ 1.  0.  0.  0.]]\n",
      "(480, 856, 3)\n",
      "[[ 1.  0.  0.  0.]]\n",
      "(480, 856, 3)\n",
      "[[ 1.  0.  0.  0.]]\n",
      "(480, 856, 3)\n",
      "[[ 1.  0.  0.  0.]]\n",
      "(480, 856, 3)\n",
      "[[ 1.  0.  0.  0.]]\n",
      "(480, 856, 3)\n",
      "[[ 1.  0.  0.  0.]]\n",
      "(480, 856, 3)\n",
      "[[ 1.  0.  0.  0.]]\n",
      "(480, 856, 3)\n",
      "[[ 1.  0.  0.  0.]]\n",
      "(480, 856, 3)\n",
      "[[ 1.  0.  0.  0.]]\n",
      "(480, 856, 3)\n",
      "[[ 1.  0.  0.  0.]]\n",
      "(480, 856, 3)\n",
      "[[ 1.  0.  0.  0.]]\n",
      "(480, 856, 3)\n",
      "[[ 1.  0.  0.  0.]]\n",
      "(480, 856, 3)\n",
      "[[ 1.  0.  0.  0.]]\n",
      "(480, 856, 3)\n",
      "[[ 1.  0.  0.  0.]]\n",
      "(480, 856, 3)\n",
      "[[ 1.  0.  0.  0.]]\n",
      "(480, 856, 3)\n",
      "[[ 1.  0.  0.  0.]]\n",
      "(480, 856, 3)\n",
      "[[ 1.  0.  0.  0.]]\n",
      "(480, 856, 3)\n",
      "[[ 1.  0.  0.  0.]]\n",
      "(480, 856, 3)\n",
      "[[ 1.  0.  0.  0.]]\n",
      "(480, 856, 3)\n",
      "[[ 1.  0.  0.  0.]]\n",
      "(480, 856, 3)\n",
      "[[ 1.  0.  0.  0.]]\n",
      "(480, 856, 3)\n",
      "[[ 1.  0.  0.  0.]]\n",
      "(480, 856, 3)\n",
      "[[ 1.  0.  0.  0.]]\n",
      "(480, 856, 3)\n",
      "[[ 1.  0.  0.  0.]]\n",
      "(480, 856, 3)\n",
      "[[ 1.  0.  0.  0.]]\n",
      "(480, 856, 3)\n",
      "[[ 1.  0.  0.  0.]]\n",
      "(480, 856, 3)\n",
      "[[ 1.  0.  0.  0.]]\n",
      "(480, 856, 3)\n",
      "[[ 1.  0.  0.  0.]]\n",
      "(480, 856, 3)\n",
      "[[ 1.  0.  0.  0.]]\n",
      "(480, 856, 3)\n",
      "[[ 1.  0.  0.  0.]]\n",
      "(480, 856, 3)\n",
      "[[ 1.  0.  0.  0.]]\n",
      "(480, 856, 3)\n",
      "[[ 1.  0.  0.  0.]]\n",
      "(480, 856, 3)\n",
      "[[ 1.  0.  0.  0.]]\n",
      "(480, 856, 3)\n",
      "[[ 1.  0.  0.  0.]]\n",
      "(480, 856, 3)\n",
      "[[ 1.  0.  0.  0.]]\n",
      "(480, 856, 3)\n",
      "[[ 1.  0.  0.  0.]]\n",
      "(480, 856, 3)\n",
      "[[ 1.  0.  0.  0.]]\n",
      "(480, 856, 3)\n",
      "[[ 1.  0.  0.  0.]]\n",
      "(480, 856, 3)\n",
      "[[ 1.  0.  0.  0.]]\n",
      "(480, 856, 3)\n",
      "[[ 1.  0.  0.  0.]]\n",
      "(480, 856, 3)\n",
      "[[ 1.  0.  0.  0.]]\n",
      "(480, 856, 3)\n",
      "[[ 1.  0.  0.  0.]]\n",
      "(480, 856, 3)\n",
      "[[ 1.  0.  0.  0.]]\n",
      "(480, 856, 3)\n",
      "[[ 1.  0.  0.  0.]]\n",
      "(480, 856, 3)\n",
      "[[ 1.  0.  0.  0.]]\n",
      "(480, 856, 3)\n",
      "[[ 1.  0.  0.  0.]]\n",
      "(480, 856, 3)\n",
      "[[ 1.  0.  0.  0.]]\n",
      "(480, 856, 3)\n",
      "[[ 1.  0.  0.  0.]]\n",
      "(480, 856, 3)\n",
      "[[ 1.  0.  0.  0.]]\n",
      "(480, 856, 3)\n",
      "[[ 1.  0.  0.  0.]]\n",
      "(480, 856, 3)\n",
      "[[ 1.  0.  0.  0.]]\n",
      "(480, 856, 3)\n",
      "[[ 1.  0.  0.  0.]]\n",
      "(480, 856, 3)\n",
      "[[ 1.  0.  0.  0.]]\n",
      "(480, 856, 3)\n",
      "[[ 1.  0.  0.  0.]]\n",
      "(480, 856, 3)\n",
      "[[ 1.  0.  0.  0.]]\n",
      "(480, 856, 3)\n",
      "[[ 1.  0.  0.  0.]]\n",
      "(480, 856, 3)\n",
      "[[ 1.  0.  0.  0.]]\n",
      "(480, 856, 3)\n",
      "[[ 1.  0.  0.  0.]]\n",
      "(480, 856, 3)\n",
      "[[ 1.  0.  0.  0.]]\n",
      "(480, 856, 3)\n",
      "[[ 1.  0.  0.  0.]]\n",
      "(480, 856, 3)\n",
      "[[ 1.  0.  0.  0.]]\n",
      "(480, 856, 3)\n",
      "[[ 1.  0.  0.  0.]]\n",
      "(480, 856, 3)\n",
      "[[ 1.  0.  0.  0.]]\n",
      "(480, 856, 3)\n",
      "[[ 1.  0.  0.  0.]]\n",
      "(480, 856, 3)\n",
      "[[ 1.  0.  0.  0.]]\n",
      "(480, 856, 3)\n",
      "[[ 1.  0.  0.  0.]]\n",
      "(480, 856, 3)\n",
      "[[ 1.  0.  0.  0.]]\n",
      "(480, 856, 3)\n",
      "[[ 1.  0.  0.  0.]]\n",
      "(480, 856, 3)\n",
      "[[ 1.  0.  0.  0.]]\n",
      "(480, 856, 3)\n",
      "[[ 1.  0.  0.  0.]]\n",
      "(480, 856, 3)\n",
      "[[ 1.  0.  0.  0.]]\n",
      "(480, 856, 3)\n",
      "[[ 1.  0.  0.  0.]]\n",
      "(480, 856, 3)\n",
      "[[ 1.  0.  0.  0.]]\n",
      "(480, 856, 3)\n",
      "[[ 1.  0.  0.  0.]]\n",
      "(480, 856, 3)\n",
      "[[ 1.  0.  0.  0.]]\n",
      "(480, 856, 3)\n",
      "[[ 1.  0.  0.  0.]]\n",
      "(480, 856, 3)\n",
      "[[ 1.  0.  0.  0.]]\n",
      "(480, 856, 3)\n",
      "[[ 1.  0.  0.  0.]]\n",
      "(480, 856, 3)\n",
      "[[ 1.  0.  0.  0.]]\n",
      "(480, 856, 3)\n",
      "[[ 1.  0.  0.  0.]]\n",
      "(480, 856, 3)\n",
      "[[ 1.  0.  0.  0.]]\n",
      "(480, 856, 3)\n",
      "[[ 1.  0.  0.  0.]]\n",
      "(480, 856, 3)\n",
      "[[ 1.  0.  0.  0.]]\n",
      "(480, 856, 3)\n",
      "[[ 1.  0.  0.  0.]]\n",
      "(480, 856, 3)\n",
      "[[ 1.  0.  0.  0.]]\n",
      "(480, 856, 3)\n",
      "[[ 1.  0.  0.  0.]]\n",
      "(480, 856, 3)\n",
      "[[ 1.  0.  0.  0.]]\n",
      "(480, 856, 3)\n",
      "[[ 1.  0.  0.  0.]]\n",
      "(480, 856, 3)\n",
      "[[ 1.  0.  0.  0.]]\n",
      "(480, 856, 3)\n",
      "[[ 1.  0.  0.  0.]]\n",
      "(480, 856, 3)\n",
      "[[ 1.  0.  0.  0.]]\n",
      "(480, 856, 3)\n",
      "[[ 1.  0.  0.  0.]]\n",
      "(480, 856, 3)\n",
      "[[ 1.  0.  0.  0.]]\n"
     ]
    },
    {
     "ename": "KeyboardInterrupt",
     "evalue": "",
     "output_type": "error",
     "traceback": [
      "\u001b[0;31m---------------------------------------------------------------------------\u001b[0m",
      "\u001b[0;31mKeyboardInterrupt\u001b[0m                         Traceback (most recent call last)",
      "\u001b[0;32m<ipython-input-37-5a8c4300f5d4>\u001b[0m in \u001b[0;36m<module>\u001b[0;34m()\u001b[0m\n\u001b[1;32m     44\u001b[0m         \u001b[0;32mbreak\u001b[0m\u001b[0;34m\u001b[0m\u001b[0m\n\u001b[1;32m     45\u001b[0m \u001b[0;34m\u001b[0m\u001b[0m\n\u001b[0;32m---> 46\u001b[0;31m \u001b[0mbebop\u001b[0m\u001b[0;34m.\u001b[0m\u001b[0msmart_sleep\u001b[0m\u001b[0;34m(\u001b[0m\u001b[0;36m5\u001b[0m\u001b[0;34m)\u001b[0m\u001b[0;34m\u001b[0m\u001b[0m\n\u001b[0m\u001b[1;32m     47\u001b[0m \u001b[0mbebop\u001b[0m\u001b[0;34m.\u001b[0m\u001b[0msafe_land\u001b[0m\u001b[0;34m(\u001b[0m\u001b[0;36m10\u001b[0m\u001b[0;34m)\u001b[0m\u001b[0;34m\u001b[0m\u001b[0m\n\u001b[1;32m     48\u001b[0m \u001b[0mprint\u001b[0m\u001b[0;34m(\u001b[0m\u001b[0;34m\"Done - Disconnecting\"\u001b[0m\u001b[0;34m)\u001b[0m\u001b[0;34m\u001b[0m\u001b[0m\n",
      "\u001b[0;32m/Users/alexchan/Documents/college/uavs/flywave/flywave/Bebop.py\u001b[0m in \u001b[0;36msmart_sleep\u001b[0;34m(self, timeout)\u001b[0m\n\u001b[1;32m    200\u001b[0m         \u001b[0;34m:\u001b[0m\u001b[0mparam\u001b[0m \u001b[0mtimeout\u001b[0m\u001b[0;34m:\u001b[0m \u001b[0mnumber\u001b[0m \u001b[0mof\u001b[0m \u001b[0mseconds\u001b[0m \u001b[0mto\u001b[0m \u001b[0msleep\u001b[0m\u001b[0;34m\u001b[0m\u001b[0m\n\u001b[1;32m    201\u001b[0m         \"\"\"\n\u001b[0;32m--> 202\u001b[0;31m         \u001b[0mself\u001b[0m\u001b[0;34m.\u001b[0m\u001b[0mdrone_connection\u001b[0m\u001b[0;34m.\u001b[0m\u001b[0msmart_sleep\u001b[0m\u001b[0;34m(\u001b[0m\u001b[0mtimeout\u001b[0m\u001b[0;34m)\u001b[0m\u001b[0;34m\u001b[0m\u001b[0m\n\u001b[0m\u001b[1;32m    203\u001b[0m \u001b[0;34m\u001b[0m\u001b[0m\n\u001b[1;32m    204\u001b[0m     \u001b[0;32mdef\u001b[0m \u001b[0m_ensure_fly_command_in_range\u001b[0m\u001b[0;34m(\u001b[0m\u001b[0mself\u001b[0m\u001b[0;34m,\u001b[0m \u001b[0mvalue\u001b[0m\u001b[0;34m)\u001b[0m\u001b[0;34m:\u001b[0m\u001b[0;34m\u001b[0m\u001b[0m\n",
      "\u001b[0;32m/Users/alexchan/Documents/college/uavs/flywave/flywave/networking/wifiConnection.py\u001b[0m in \u001b[0;36msmart_sleep\u001b[0;34m(self, timeout)\u001b[0m\n\u001b[1;32m    635\u001b[0m         \u001b[0mstart_time\u001b[0m \u001b[0;34m=\u001b[0m \u001b[0mtime\u001b[0m\u001b[0;34m.\u001b[0m\u001b[0mtime\u001b[0m\u001b[0;34m(\u001b[0m\u001b[0;34m)\u001b[0m\u001b[0;34m\u001b[0m\u001b[0m\n\u001b[1;32m    636\u001b[0m         \u001b[0;32mwhile\u001b[0m \u001b[0;34m(\u001b[0m\u001b[0mtime\u001b[0m\u001b[0;34m.\u001b[0m\u001b[0mtime\u001b[0m\u001b[0;34m(\u001b[0m\u001b[0;34m)\u001b[0m \u001b[0;34m-\u001b[0m \u001b[0mstart_time\u001b[0m \u001b[0;34m<\u001b[0m \u001b[0mtimeout\u001b[0m\u001b[0;34m)\u001b[0m\u001b[0;34m:\u001b[0m\u001b[0;34m\u001b[0m\u001b[0m\n\u001b[0;32m--> 637\u001b[0;31m             \u001b[0mtime\u001b[0m\u001b[0;34m.\u001b[0m\u001b[0msleep\u001b[0m\u001b[0;34m(\u001b[0m\u001b[0;36m0.1\u001b[0m\u001b[0;34m)\u001b[0m\u001b[0;34m\u001b[0m\u001b[0m\n\u001b[0m\u001b[1;32m    638\u001b[0m \u001b[0;34m\u001b[0m\u001b[0m\n\u001b[1;32m    639\u001b[0m     \u001b[0;32mdef\u001b[0m \u001b[0mack_packet\u001b[0m\u001b[0;34m(\u001b[0m\u001b[0mself\u001b[0m\u001b[0;34m,\u001b[0m \u001b[0mbuffer_id\u001b[0m\u001b[0;34m,\u001b[0m \u001b[0mpacket_id\u001b[0m\u001b[0;34m)\u001b[0m\u001b[0;34m:\u001b[0m\u001b[0;34m\u001b[0m\u001b[0m\n",
      "\u001b[0;31mKeyboardInterrupt\u001b[0m: "
     ]
    }
   ],
   "source": [
    "\n",
    "\n",
    "print(\"Vision successfully started!\")\n",
    "#removed the user call to this function (it now happens in open_video())\n",
    "#bebopVision.start_video_buffering()\n",
    "\n",
    "# skipping actually flying for safety purposes indoors - if you want\n",
    "# different pictures, move the bebop around by hand\n",
    "print(\"Fly me around by hand!\")\n",
    "bebop.smart_sleep(5)\n",
    "print(\"Moving the camera using velocity\")\n",
    "# bebop.pan_tilt_camera_velocity(pan_velocity=0, tilt_velocity=-2, duration=4)\n",
    "\n",
    "bebop.safe_takeoff(10)\n",
    "bebop.fly_direct(roll=0, pitch=0, yaw=0, vertical_movement=20, duration=1)\n",
    "bebop.smart_sleep(5)\n",
    "\n",
    "count = 0\n",
    "scale = 4\n",
    "\n",
    "while active:\n",
    "    if count % COUNT_EVERY == 0:\n",
    "        #TODO: How to get individual frames from video stream in bebop?\n",
    "        img = userVision.vision.get_latest_valid_picture()\n",
    "#         cv2.imwrite('curr_frame.png', img)\n",
    "#         img = image.load_img('curr_frame.png', grayscale=True)\n",
    "        img = image.img_to_array(img)\n",
    "        print(img.shape)\n",
    "#         plt.imshow(img)\n",
    "#         img = preprocess(img, 4)\n",
    "        img = cv2.cvtColor(img, cv2.COLOR_BGR2GRAY)\n",
    "        blur = cv2.GaussianBlur(img,(5,5),0)\n",
    "#         ret, img = cv2.threshold(blur,70,255,cv2.THRESH_BINARY_INV+cv2.THRESH_OTSU)\n",
    "        img = cv2.resize(img, (img.shape[1]//scale, img.shape[0]//scale))\n",
    "        img = np.resize(img, (1, img.shape[0], img.shape[1],1))\n",
    "        prediction = model.predict(img)\n",
    "        print(prediction)\n",
    "        if len(prediction) > 0:\n",
    "            gesture = np.argmax(prediction[0])\n",
    "            #print(gesture, prediction)\n",
    "            resolveAction(gesture)\n",
    "    count += 1\n",
    "    if count == 2000:\n",
    "        break\n",
    "\n",
    "bebop.smart_sleep(5)\n",
    "bebop.safe_land(10)\n",
    "print(\"Done - Disconnecting\")\n",
    "\n",
    "bebop.disconnect()\n",
    "\n"
   ]
  },
  {
   "cell_type": "code",
   "execution_count": 1,
   "metadata": {
    "collapsed": false
   },
   "outputs": [
    {
     "ename": "NameError",
     "evalue": "name 'bebop' is not defined",
     "output_type": "error",
     "traceback": [
      "\u001b[0;31m---------------------------------------------------------------------------\u001b[0m",
      "\u001b[0;31mNameError\u001b[0m                                 Traceback (most recent call last)",
      "\u001b[0;32m<ipython-input-1-f87e203c505a>\u001b[0m in \u001b[0;36m<module>\u001b[0;34m()\u001b[0m\n\u001b[0;32m----> 1\u001b[0;31m \u001b[0mbebop\u001b[0m\u001b[0;34m.\u001b[0m\u001b[0mdisconnect\u001b[0m\u001b[0;34m(\u001b[0m\u001b[0;34m)\u001b[0m\u001b[0;34m\u001b[0m\u001b[0m\n\u001b[0m",
      "\u001b[0;31mNameError\u001b[0m: name 'bebop' is not defined"
     ]
    }
   ],
   "source": [
    "bebop.disconnect()\n"
   ]
  },
  {
   "cell_type": "code",
   "execution_count": null,
   "metadata": {
    "collapsed": true
   },
   "outputs": [],
   "source": []
  }
 ],
 "metadata": {
  "anaconda-cloud": {},
  "kernelspec": {
   "display_name": "Python [MLKart]",
   "language": "python",
   "name": "Python [MLKart]"
  },
  "language_info": {
   "codemirror_mode": {
    "name": "ipython",
    "version": 3
   },
   "file_extension": ".py",
   "mimetype": "text/x-python",
   "name": "python",
   "nbconvert_exporter": "python",
   "pygments_lexer": "ipython3",
   "version": "3.6.1"
  }
 },
 "nbformat": 4,
 "nbformat_minor": 0
}
