{
 "cells": [
  {
   "cell_type": "code",
   "execution_count": 3,
   "metadata": {
    "collapsed": false
   },
   "outputs": [],
   "source": [
    "from Bebop import Bebop\n",
    "from DroneVision import DroneVision\n",
    "import threading\n",
    "import cv2\n",
    "import time"
   ]
  },
  {
   "cell_type": "code",
   "execution_count": 2,
   "metadata": {
    "collapsed": true
   },
   "outputs": [],
   "source": [
    "bebop = Bebop()"
   ]
  },
  {
   "cell_type": "code",
   "execution_count": 4,
   "metadata": {
    "collapsed": true
   },
   "outputs": [],
   "source": [
    "isAlive = False\n",
    "\n",
    "class UserVision:\n",
    "    def __init__(self, vision):\n",
    "        self.index = 0\n",
    "        self.vision = vision\n",
    "\n",
    "    def save_pictures(self, args):\n",
    "        #print(\"saving picture\")\n",
    "        img = self.vision.get_latest_valid_picture()\n",
    "        \n",
    "        filename = \"test_image_%06d.png\" % self.index\n",
    "        #cv2.imwrite(filename, img)\n",
    "        self.index +=1\n",
    "\n",
    "    def detect(self, args):\n",
    "        img = self.vision.get_latest_valid_picture()\n"
   ]
  },
  {
   "cell_type": "code",
   "execution_count": null,
   "metadata": {
    "collapsed": true
   },
   "outputs": [],
   "source": [
    "success = bebop.connect(5)\n",
    "\n",
    "if (success):\n",
    "    # start up the video\n",
    "    bebopVision = DroneVision(bebop, is_bebop=True)\n",
    "\n",
    "    userVision = UserVision(bebopVision)\n",
    "    bebopVision.set_user_callback_function(userVision.save_pictures, user_callback_args=None)\n",
    "    success = bebopVision.open_video()\n",
    "\n",
    "    if (success):\n",
    "        print(\"Vision successfully started!\")\n",
    "        #removed the user call to this function (it now happens in open_video())\n",
    "        #bebopVision.start_video_buffering()\n",
    "\n",
    "        # skipping actually flying for safety purposes indoors - if you want\n",
    "        # different pictures, move the bebop around by hand\n",
    "        print(\"Fly me around by hand!\")\n",
    "        bebop.smart_sleep(5)\n",
    "        print(\"Moving the camera using velocity\")\n",
    "        bebop.pan_tilt_camera_velocity(pan_velocity=0, tilt_velocity=-2, duration=4)\n",
    "\n",
    "        bebop.safe_takeoff(10)\n",
    "\n",
    "\n",
    "        bebop.smart_sleep(30)\n",
    "        bebop.safe_land(10)\n",
    "        print(\"Finishing demo and stopping vision\")\n",
    "        bebopVision.close_video()\n",
    "\n",
    "    # disconnect nicely so we don't need a reboot\n",
    "    bebop.disconnect()\n",
    "else:\n",
    "    print(\"Error connecting to bebop.  Retry\")\n"
   ]
  },
  {
   "cell_type": "code",
   "execution_count": null,
   "metadata": {
    "collapsed": true
   },
   "outputs": [],
   "source": []
  },
  {
   "cell_type": "code",
   "execution_count": null,
   "metadata": {
    "collapsed": true
   },
   "outputs": [],
   "source": []
  },
  {
   "cell_type": "code",
   "execution_count": null,
   "metadata": {
    "collapsed": true
   },
   "outputs": [],
   "source": []
  },
  {
   "cell_type": "code",
   "execution_count": null,
   "metadata": {
    "collapsed": true
   },
   "outputs": [],
   "source": [
    "\n",
    "print(\"connecting\")\n",
    "success = bebop.connect(10)\n",
    "print(success)\n",
    "\n",
    "print(\"sleeping\")\n",
    "bebop.smart_sleep(5)\n",
    "\n",
    "bebop.ask_for_state_update()\n",
    "\n",
    "bebop.safe_takeoff(10)\n",
    "\n",
    "print(\"Flying direct: going forward (positive pitch)\")\n",
    "bebop.fly_direct(roll=0, pitch=50, yaw=0, vertical_movement=0, duration=1)\n",
    "\n",
    "print(\"Flying direct: yaw\")\n",
    "bebop.fly_direct(roll=0, pitch=0, yaw=50, vertical_movement=0, duration=1)\n",
    "\n",
    "print(\"Flying direct: going backwards (negative pitch)\")\n",
    "bebop.fly_direct(roll=0, pitch=-50, yaw=0, vertical_movement=0, duration=0.5)\n",
    "\n",
    "print(\"Flying direct: roll\")\n",
    "bebop.fly_direct(roll=50, pitch=0, yaw=0, vertical_movement=0, duration=1)\n",
    "\n",
    "print(\"Flying direct: going up\")\n",
    "bebop.fly_direct(roll=0, pitch=0, yaw=0, vertical_movement=50, duration=1)\n",
    "\n",
    "# this works but requires a larger test space than I currently have. Uncomment with care and test only in large spaces!\n",
    "#print(\"Flying direct: going around in a circle (yes you can mix roll, pitch, yaw in one command!)\")\n",
    "#bebop.fly_direct(roll=25, pitch=0, yaw=50, vertical_movement=0, duration=5)\n",
    "\n",
    "bebop.smart_sleep(5)\n",
    "bebop.safe_land(10)\n",
    "\n",
    "print(\"DONE - disconnecting\")\n",
    "bebop.disconnect()"
   ]
  }
 ],
 "metadata": {
  "anaconda-cloud": {},
  "kernelspec": {
   "display_name": "Python [MLKart]",
   "language": "python",
   "name": "Python [MLKart]"
  },
  "language_info": {
   "codemirror_mode": {
    "name": "ipython",
    "version": 3
   },
   "file_extension": ".py",
   "mimetype": "text/x-python",
   "name": "python",
   "nbconvert_exporter": "python",
   "pygments_lexer": "ipython3",
   "version": "3.6.1"
  }
 },
 "nbformat": 4,
 "nbformat_minor": 0
}
